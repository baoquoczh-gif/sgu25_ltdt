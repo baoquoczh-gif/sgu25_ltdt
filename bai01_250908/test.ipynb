{
 "cells": [
  {
   "cell_type": "markdown",
   "id": "a52ebe90",
   "metadata": {},
   "source": [
    "# Bai 1"
   ]
  },
  {
   "cell_type": "code",
   "execution_count": 1,
   "id": "3fc656a7",
   "metadata": {},
   "outputs": [
    {
     "name": "stdout",
     "output_type": "stream",
     "text": [
      "b a \n"
     ]
    }
   ],
   "source": [
    "!g++ bai1.cpp -o bai1\n",
    "!./bai1"
   ]
  },
  {
   "cell_type": "markdown",
   "id": "1c950935",
   "metadata": {},
   "source": [
    "# Bai 2"
   ]
  },
  {
   "cell_type": "code",
   "execution_count": 3,
   "id": "02959973",
   "metadata": {},
   "outputs": [
    {
     "name": "stdout",
     "output_type": "stream",
     "text": [
      "Writing tinhtong.in1\n"
     ]
    }
   ],
   "source": [
    "%%writefile tinhtong.in1\n",
    "1 2 4"
   ]
  },
  {
   "cell_type": "code",
   "execution_count": 7,
   "id": "42206f84",
   "metadata": {},
   "outputs": [
    {
     "name": "stdout",
     "output_type": "stream",
     "text": [
      "1 2 4\n"
     ]
    },
    {
     "name": "stdout",
     "output_type": "stream",
     "text": [
      "---\n",
      "compile...\n",
      "---\n",
      "run...\n",
      "7\n"
     ]
    }
   ],
   "source": [
    "!cat tinhtong.in1\n",
    "!echo ---\n",
    "!echo compile...\n",
    "!g++ tinhtong.cpp -o tinhtong\n",
    "!echo ---\n",
    "!echo run...\n",
    "!./tinhtong <tinhtong.in1"
   ]
  },
  {
   "cell_type": "markdown",
   "id": "f2a07cb8",
   "metadata": {},
   "source": [
    "## Ket thuc"
   ]
  }
 ],
 "metadata": {
  "kernelspec": {
   "display_name": "Python 3",
   "language": "python",
   "name": "python3"
  },
  "language_info": {
   "codemirror_mode": {
    "name": "ipython",
    "version": 3
   },
   "file_extension": ".py",
   "mimetype": "text/x-python",
   "name": "python",
   "nbconvert_exporter": "python",
   "pygments_lexer": "ipython3",
   "version": "3.12.1"
  }
 },
 "nbformat": 4,
 "nbformat_minor": 5
}
